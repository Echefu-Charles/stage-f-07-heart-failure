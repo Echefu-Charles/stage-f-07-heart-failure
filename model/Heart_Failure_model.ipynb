{
 "cells": [
  {
   "cell_type": "code",
   "execution_count": 1,
   "metadata": {
    "ExecuteTime": {
     "end_time": "2020-11-03T23:33:39.460014Z",
     "start_time": "2020-11-03T23:33:38.580562Z"
    }
   },
   "outputs": [],
   "source": [
    "import numpy as np\n",
    "import pandas as pd\n",
    "import matplotlib.pyplot as plt"
   ]
  },
  {
   "cell_type": "code",
   "execution_count": 2,
   "metadata": {
    "ExecuteTime": {
     "end_time": "2020-11-03T23:33:40.498603Z",
     "start_time": "2020-11-03T23:33:39.463013Z"
    }
   },
   "outputs": [
    {
     "data": {
      "text/html": [
       "<div>\n",
       "<style scoped>\n",
       "    .dataframe tbody tr th:only-of-type {\n",
       "        vertical-align: middle;\n",
       "    }\n",
       "\n",
       "    .dataframe tbody tr th {\n",
       "        vertical-align: top;\n",
       "    }\n",
       "\n",
       "    .dataframe thead th {\n",
       "        text-align: right;\n",
       "    }\n",
       "</style>\n",
       "<table border=\"1\" class=\"dataframe\">\n",
       "  <thead>\n",
       "    <tr style=\"text-align: right;\">\n",
       "      <th></th>\n",
       "      <th>age</th>\n",
       "      <th>anaemia</th>\n",
       "      <th>creatinine_phosphokinase</th>\n",
       "      <th>diabetes</th>\n",
       "      <th>ejection_fraction</th>\n",
       "      <th>high_blood_pressure</th>\n",
       "      <th>platelets</th>\n",
       "      <th>serum_creatinine</th>\n",
       "      <th>serum_sodium</th>\n",
       "      <th>sex</th>\n",
       "      <th>smoking</th>\n",
       "      <th>time</th>\n",
       "      <th>DEATH_EVENT</th>\n",
       "    </tr>\n",
       "  </thead>\n",
       "  <tbody>\n",
       "    <tr>\n",
       "      <th>0</th>\n",
       "      <td>75.0</td>\n",
       "      <td>0</td>\n",
       "      <td>582</td>\n",
       "      <td>0</td>\n",
       "      <td>20</td>\n",
       "      <td>1</td>\n",
       "      <td>265000.00</td>\n",
       "      <td>1.9</td>\n",
       "      <td>130</td>\n",
       "      <td>1</td>\n",
       "      <td>0</td>\n",
       "      <td>4</td>\n",
       "      <td>1</td>\n",
       "    </tr>\n",
       "    <tr>\n",
       "      <th>1</th>\n",
       "      <td>55.0</td>\n",
       "      <td>0</td>\n",
       "      <td>7861</td>\n",
       "      <td>0</td>\n",
       "      <td>38</td>\n",
       "      <td>0</td>\n",
       "      <td>263358.03</td>\n",
       "      <td>1.1</td>\n",
       "      <td>136</td>\n",
       "      <td>1</td>\n",
       "      <td>0</td>\n",
       "      <td>6</td>\n",
       "      <td>1</td>\n",
       "    </tr>\n",
       "    <tr>\n",
       "      <th>2</th>\n",
       "      <td>65.0</td>\n",
       "      <td>0</td>\n",
       "      <td>146</td>\n",
       "      <td>0</td>\n",
       "      <td>20</td>\n",
       "      <td>0</td>\n",
       "      <td>162000.00</td>\n",
       "      <td>1.3</td>\n",
       "      <td>129</td>\n",
       "      <td>1</td>\n",
       "      <td>1</td>\n",
       "      <td>7</td>\n",
       "      <td>1</td>\n",
       "    </tr>\n",
       "    <tr>\n",
       "      <th>3</th>\n",
       "      <td>50.0</td>\n",
       "      <td>1</td>\n",
       "      <td>111</td>\n",
       "      <td>0</td>\n",
       "      <td>20</td>\n",
       "      <td>0</td>\n",
       "      <td>210000.00</td>\n",
       "      <td>1.9</td>\n",
       "      <td>137</td>\n",
       "      <td>1</td>\n",
       "      <td>0</td>\n",
       "      <td>7</td>\n",
       "      <td>1</td>\n",
       "    </tr>\n",
       "    <tr>\n",
       "      <th>4</th>\n",
       "      <td>65.0</td>\n",
       "      <td>1</td>\n",
       "      <td>160</td>\n",
       "      <td>1</td>\n",
       "      <td>20</td>\n",
       "      <td>0</td>\n",
       "      <td>327000.00</td>\n",
       "      <td>2.7</td>\n",
       "      <td>116</td>\n",
       "      <td>0</td>\n",
       "      <td>0</td>\n",
       "      <td>8</td>\n",
       "      <td>1</td>\n",
       "    </tr>\n",
       "  </tbody>\n",
       "</table>\n",
       "</div>"
      ],
      "text/plain": [
       "    age  anaemia  creatinine_phosphokinase  diabetes  ejection_fraction  \\\n",
       "0  75.0        0                       582         0                 20   \n",
       "1  55.0        0                      7861         0                 38   \n",
       "2  65.0        0                       146         0                 20   \n",
       "3  50.0        1                       111         0                 20   \n",
       "4  65.0        1                       160         1                 20   \n",
       "\n",
       "   high_blood_pressure  platelets  serum_creatinine  serum_sodium  sex  \\\n",
       "0                    1  265000.00               1.9           130    1   \n",
       "1                    0  263358.03               1.1           136    1   \n",
       "2                    0  162000.00               1.3           129    1   \n",
       "3                    0  210000.00               1.9           137    1   \n",
       "4                    0  327000.00               2.7           116    0   \n",
       "\n",
       "   smoking  time  DEATH_EVENT  \n",
       "0        0     4            1  \n",
       "1        0     6            1  \n",
       "2        1     7            1  \n",
       "3        0     7            1  \n",
       "4        0     8            1  "
      ]
     },
     "execution_count": 2,
     "metadata": {},
     "output_type": "execute_result"
    }
   ],
   "source": [
    "#loading dataset\n",
    "dataset = pd.read_csv('https://raw.githubusercontent.com/gogzicole/stage-f-07-heart-failure/master/data/heart_failure_clinical_records_dataset.csv')\n",
    "dataset.head()"
   ]
  },
  {
   "cell_type": "code",
   "execution_count": 3,
   "metadata": {
    "ExecuteTime": {
     "end_time": "2020-11-03T23:33:40.516594Z",
     "start_time": "2020-11-03T23:33:40.501600Z"
    }
   },
   "outputs": [
    {
     "data": {
      "text/plain": [
       "0    203\n",
       "1     96\n",
       "Name: DEATH_EVENT, dtype: int64"
      ]
     },
     "execution_count": 3,
     "metadata": {},
     "output_type": "execute_result"
    }
   ],
   "source": [
    "# selecting feature matrix and target variable\n",
    "X = dataset.drop(columns = 'DEATH_EVENT')\n",
    "y = dataset['DEATH_EVENT']\n",
    "y.value_counts()"
   ]
  },
  {
   "cell_type": "code",
   "execution_count": 4,
   "metadata": {
    "ExecuteTime": {
     "end_time": "2020-11-03T23:33:53.279270Z",
     "start_time": "2020-11-03T23:33:51.274796Z"
    }
   },
   "outputs": [],
   "source": [
    "from sklearn.model_selection import train_test_split, GridSearchCV\n",
    "from sklearn.pipeline import Pipeline, FeatureUnion\n",
    "from sklearn.preprocessing import MinMaxScaler\n",
    "from sklearn.compose import  ColumnTransformer\n",
    "from sklearn.ensemble import RandomForestClassifier"
   ]
  },
  {
   "cell_type": "code",
   "execution_count": 5,
   "metadata": {
    "ExecuteTime": {
     "end_time": "2020-11-03T20:17:13.330708Z",
     "start_time": "2020-11-03T20:17:13.320714Z"
    }
   },
   "outputs": [
    {
     "data": {
      "text/plain": [
       "Index(['age', 'anaemia', 'creatinine_phosphokinase', 'diabetes',\n",
       "       'ejection_fraction', 'high_blood_pressure', 'platelets',\n",
       "       'serum_creatinine', 'serum_sodium', 'sex', 'smoking', 'time'],\n",
       "      dtype='object')"
      ]
     },
     "execution_count": 5,
     "metadata": {},
     "output_type": "execute_result"
    }
   ],
   "source": [
    "X.columns"
   ]
  },
  {
   "cell_type": "code",
   "execution_count": 7,
   "metadata": {
    "ExecuteTime": {
     "end_time": "2020-11-03T15:46:20.496879Z",
     "start_time": "2020-11-03T15:46:20.100532Z"
    }
   },
   "outputs": [
    {
     "data": {
      "text/plain": [
       "count    299.000000\n",
       "mean     136.625418\n",
       "std        4.412477\n",
       "min      113.000000\n",
       "25%      134.000000\n",
       "50%      137.000000\n",
       "75%      140.000000\n",
       "max      148.000000\n",
       "Name: serum_sodium, dtype: float64"
      ]
     },
     "execution_count": 7,
     "metadata": {},
     "output_type": "execute_result"
    }
   ],
   "source": [
    "# to check properties of serum_sodium\n",
    "X.serum_sodium.describe()"
   ]
  },
  {
   "cell_type": "code",
   "execution_count": 8,
   "metadata": {
    "ExecuteTime": {
     "end_time": "2020-11-03T15:46:20.516865Z",
     "start_time": "2020-11-03T15:46:20.501875Z"
    }
   },
   "outputs": [
    {
     "data": {
      "text/plain": [
       "count    299.000000\n",
       "mean      38.083612\n",
       "std       11.834841\n",
       "min       14.000000\n",
       "25%       30.000000\n",
       "50%       38.000000\n",
       "75%       45.000000\n",
       "max       80.000000\n",
       "Name: ejection_fraction, dtype: float64"
      ]
     },
     "execution_count": 8,
     "metadata": {},
     "output_type": "execute_result"
    }
   ],
   "source": [
    "# to check properties of ejection_fraction\n",
    "X.ejection_fraction.describe()"
   ]
  },
  {
   "cell_type": "code",
   "execution_count": 9,
   "metadata": {
    "ExecuteTime": {
     "end_time": "2020-11-03T15:46:20.754718Z",
     "start_time": "2020-11-03T15:46:20.520863Z"
    }
   },
   "outputs": [
    {
     "data": {
      "text/plain": [
       "count     299.000000\n",
       "mean      581.839465\n",
       "std       970.287881\n",
       "min        23.000000\n",
       "25%       116.500000\n",
       "50%       250.000000\n",
       "75%       582.000000\n",
       "max      7861.000000\n",
       "Name: creatinine_phosphokinase, dtype: float64"
      ]
     },
     "execution_count": 9,
     "metadata": {},
     "output_type": "execute_result"
    }
   ],
   "source": [
    "# to check properties of creatinine_phosphokinase\n",
    "X.creatinine_phosphokinase.describe()"
   ]
  },
  {
   "cell_type": "code",
   "execution_count": 6,
   "metadata": {
    "ExecuteTime": {
     "end_time": "2020-11-03T23:34:27.514670Z",
     "start_time": "2020-11-03T23:34:27.509668Z"
    }
   },
   "outputs": [],
   "source": [
    "# trialz = X.copy()"
   ]
  },
  {
   "cell_type": "code",
   "execution_count": 7,
   "metadata": {
    "ExecuteTime": {
     "end_time": "2020-11-03T23:34:28.025061Z",
     "start_time": "2020-11-03T23:34:28.018067Z"
    }
   },
   "outputs": [],
   "source": [
    "# function to engineer features for the serum_creatinine feature\n",
    "def serum_creatinine(x):\n",
    "    if (x >= 0.6) & (x<= 1.3):\n",
    "        return 'normal'\n",
    "    else:\n",
    "        return 'abnormal'\n",
    "    "
   ]
  },
  {
   "cell_type": "code",
   "execution_count": 8,
   "metadata": {
    "ExecuteTime": {
     "end_time": "2020-11-03T23:34:28.517651Z",
     "start_time": "2020-11-03T23:34:28.508655Z"
    }
   },
   "outputs": [],
   "source": [
    "# function to engineer features for the serum_sodium feature\n",
    "def serum_sodium(x):\n",
    "    if ((x>= 135) & (x <= 145)):\n",
    "        return 'normal'\n",
    "    else:\n",
    "        return 'abnormal'\n",
    "    "
   ]
  },
  {
   "cell_type": "code",
   "execution_count": 9,
   "metadata": {
    "ExecuteTime": {
     "end_time": "2020-11-03T23:34:28.911654Z",
     "start_time": "2020-11-03T23:34:28.903655Z"
    }
   },
   "outputs": [],
   "source": [
    "# function to engineer features for the creatinine_phosphokinase feature\n",
    "def cpk(x):\n",
    "    if ((x >= 10) & (x <=120)):\n",
    "        return 'normal'\n",
    "    elif ((x > 120) & (x <=250)):\n",
    "        return 'high'\n",
    "    else:\n",
    "        return 'very_high'\n",
    "    "
   ]
  },
  {
   "cell_type": "code",
   "execution_count": 11,
   "metadata": {
    "ExecuteTime": {
     "end_time": "2020-11-03T23:34:41.099621Z",
     "start_time": "2020-11-03T23:34:41.088628Z"
    }
   },
   "outputs": [],
   "source": [
    "#Creating new features by applying our custom functions on appropriate features\n",
    "\n",
    "X['serum_creatinine_result'] = X['serum_creatinine'].apply(serum_creatinine)\n",
    "\n",
    "X['serum_sodium_result'] = X['serum_sodium'].apply(serum_sodium)\n",
    "\n",
    "X['creatinine_phosphokinase_result'] = X['creatinine_phosphokinase'].apply(cpk)"
   ]
  },
  {
   "cell_type": "code",
   "execution_count": 15,
   "metadata": {
    "ExecuteTime": {
     "end_time": "2020-11-03T23:37:22.100888Z",
     "start_time": "2020-11-03T23:37:22.081901Z"
    }
   },
   "outputs": [],
   "source": [
    "# creating dummy variables for our newly created categorical features\n",
    "\n",
    "X = pd.get_dummies(X, columns = ['serum_creatinine_result', 'serum_sodium_result', 'creatinine_phosphokinase_result'], drop_first=True)"
   ]
  },
  {
   "cell_type": "code",
   "execution_count": 14,
   "metadata": {
    "ExecuteTime": {
     "end_time": "2020-11-03T23:36:41.410797Z",
     "start_time": "2020-11-03T23:36:41.386809Z"
    }
   },
   "outputs": [
    {
     "data": {
      "text/html": [
       "<div>\n",
       "<style scoped>\n",
       "    .dataframe tbody tr th:only-of-type {\n",
       "        vertical-align: middle;\n",
       "    }\n",
       "\n",
       "    .dataframe tbody tr th {\n",
       "        vertical-align: top;\n",
       "    }\n",
       "\n",
       "    .dataframe thead th {\n",
       "        text-align: right;\n",
       "    }\n",
       "</style>\n",
       "<table border=\"1\" class=\"dataframe\">\n",
       "  <thead>\n",
       "    <tr style=\"text-align: right;\">\n",
       "      <th></th>\n",
       "      <th>age</th>\n",
       "      <th>anaemia</th>\n",
       "      <th>creatinine_phosphokinase</th>\n",
       "      <th>diabetes</th>\n",
       "      <th>ejection_fraction</th>\n",
       "      <th>high_blood_pressure</th>\n",
       "      <th>platelets</th>\n",
       "      <th>serum_creatinine</th>\n",
       "      <th>serum_sodium</th>\n",
       "      <th>sex</th>\n",
       "      <th>smoking</th>\n",
       "      <th>time</th>\n",
       "      <th>serum_creatinine_result_normal</th>\n",
       "      <th>serum_sodium_result_normal</th>\n",
       "      <th>creatinine_phosphokinase_result_normal</th>\n",
       "      <th>creatinine_phosphokinase_result_very_high</th>\n",
       "    </tr>\n",
       "  </thead>\n",
       "  <tbody>\n",
       "    <tr>\n",
       "      <th>0</th>\n",
       "      <td>75.0</td>\n",
       "      <td>0</td>\n",
       "      <td>582</td>\n",
       "      <td>0</td>\n",
       "      <td>20</td>\n",
       "      <td>1</td>\n",
       "      <td>265000.00</td>\n",
       "      <td>1.9</td>\n",
       "      <td>130</td>\n",
       "      <td>1</td>\n",
       "      <td>0</td>\n",
       "      <td>4</td>\n",
       "      <td>0</td>\n",
       "      <td>0</td>\n",
       "      <td>0</td>\n",
       "      <td>1</td>\n",
       "    </tr>\n",
       "    <tr>\n",
       "      <th>1</th>\n",
       "      <td>55.0</td>\n",
       "      <td>0</td>\n",
       "      <td>7861</td>\n",
       "      <td>0</td>\n",
       "      <td>38</td>\n",
       "      <td>0</td>\n",
       "      <td>263358.03</td>\n",
       "      <td>1.1</td>\n",
       "      <td>136</td>\n",
       "      <td>1</td>\n",
       "      <td>0</td>\n",
       "      <td>6</td>\n",
       "      <td>1</td>\n",
       "      <td>1</td>\n",
       "      <td>0</td>\n",
       "      <td>1</td>\n",
       "    </tr>\n",
       "    <tr>\n",
       "      <th>2</th>\n",
       "      <td>65.0</td>\n",
       "      <td>0</td>\n",
       "      <td>146</td>\n",
       "      <td>0</td>\n",
       "      <td>20</td>\n",
       "      <td>0</td>\n",
       "      <td>162000.00</td>\n",
       "      <td>1.3</td>\n",
       "      <td>129</td>\n",
       "      <td>1</td>\n",
       "      <td>1</td>\n",
       "      <td>7</td>\n",
       "      <td>1</td>\n",
       "      <td>0</td>\n",
       "      <td>0</td>\n",
       "      <td>0</td>\n",
       "    </tr>\n",
       "    <tr>\n",
       "      <th>3</th>\n",
       "      <td>50.0</td>\n",
       "      <td>1</td>\n",
       "      <td>111</td>\n",
       "      <td>0</td>\n",
       "      <td>20</td>\n",
       "      <td>0</td>\n",
       "      <td>210000.00</td>\n",
       "      <td>1.9</td>\n",
       "      <td>137</td>\n",
       "      <td>1</td>\n",
       "      <td>0</td>\n",
       "      <td>7</td>\n",
       "      <td>0</td>\n",
       "      <td>1</td>\n",
       "      <td>1</td>\n",
       "      <td>0</td>\n",
       "    </tr>\n",
       "    <tr>\n",
       "      <th>4</th>\n",
       "      <td>65.0</td>\n",
       "      <td>1</td>\n",
       "      <td>160</td>\n",
       "      <td>1</td>\n",
       "      <td>20</td>\n",
       "      <td>0</td>\n",
       "      <td>327000.00</td>\n",
       "      <td>2.7</td>\n",
       "      <td>116</td>\n",
       "      <td>0</td>\n",
       "      <td>0</td>\n",
       "      <td>8</td>\n",
       "      <td>0</td>\n",
       "      <td>0</td>\n",
       "      <td>0</td>\n",
       "      <td>0</td>\n",
       "    </tr>\n",
       "  </tbody>\n",
       "</table>\n",
       "</div>"
      ],
      "text/plain": [
       "    age  anaemia  creatinine_phosphokinase  diabetes  ejection_fraction  \\\n",
       "0  75.0        0                       582         0                 20   \n",
       "1  55.0        0                      7861         0                 38   \n",
       "2  65.0        0                       146         0                 20   \n",
       "3  50.0        1                       111         0                 20   \n",
       "4  65.0        1                       160         1                 20   \n",
       "\n",
       "   high_blood_pressure  platelets  serum_creatinine  serum_sodium  sex  \\\n",
       "0                    1  265000.00               1.9           130    1   \n",
       "1                    0  263358.03               1.1           136    1   \n",
       "2                    0  162000.00               1.3           129    1   \n",
       "3                    0  210000.00               1.9           137    1   \n",
       "4                    0  327000.00               2.7           116    0   \n",
       "\n",
       "   smoking  time  serum_creatinine_result_normal  serum_sodium_result_normal  \\\n",
       "0        0     4                               0                           0   \n",
       "1        0     6                               1                           1   \n",
       "2        1     7                               1                           0   \n",
       "3        0     7                               0                           1   \n",
       "4        0     8                               0                           0   \n",
       "\n",
       "   creatinine_phosphokinase_result_normal  \\\n",
       "0                                       0   \n",
       "1                                       0   \n",
       "2                                       0   \n",
       "3                                       1   \n",
       "4                                       0   \n",
       "\n",
       "   creatinine_phosphokinase_result_very_high  \n",
       "0                                          1  \n",
       "1                                          1  \n",
       "2                                          0  \n",
       "3                                          0  \n",
       "4                                          0  "
      ]
     },
     "execution_count": 14,
     "metadata": {},
     "output_type": "execute_result"
    }
   ],
   "source": [
    "X.head()"
   ]
  },
  {
   "cell_type": "code",
   "execution_count": 17,
   "metadata": {
    "ExecuteTime": {
     "end_time": "2020-11-03T23:37:44.120604Z",
     "start_time": "2020-11-03T23:37:44.102612Z"
    }
   },
   "outputs": [],
   "source": [
    "#perform Smote on X and y and reassign the new variables to x_balanced and ya_balanced\n",
    "import imblearn\n",
    "from imblearn.over_sampling import SMOTE\n",
    "smote = SMOTE(random_state=1)\n",
    "X_balanced, y_balanced = smote.fit_sample(X, y)\n",
    "X_balanced = pd.DataFrame(X_balanced, columns = X.columns)"
   ]
  },
  {
   "cell_type": "code",
   "execution_count": 19,
   "metadata": {
    "ExecuteTime": {
     "end_time": "2020-11-03T23:38:03.547742Z",
     "start_time": "2020-11-03T23:38:03.533751Z"
    }
   },
   "outputs": [
    {
     "name": "stdout",
     "output_type": "stream",
     "text": [
      "the shape of X is: (299, 16)\n",
      "the shape of y is: (299,)\n",
      "the shape of X_balanced is: (406, 16)\n",
      "the shape of y_balanced is: (406,)\n",
      "the instances of 1 and 0 in DEATH_EVENT are:\n",
      "1    203\n",
      "0    203\n",
      "Name: DEATH_EVENT, dtype: int64\n"
     ]
    }
   ],
   "source": [
    "# we can see that the numbr of observations increased from 299 to 406\n",
    "# and also both instances of 1 and 0 in y are now equal\n",
    "print('the shape of X is: {}'.format(X.shape))\n",
    "print('the shape of y is: {}'.format(y.shape))\n",
    "print('the shape of X_balanced is: {}'.format(X_balanced.shape))\n",
    "print('the shape of y_balanced is: {}'.format(pd.Series(y_balanced).shape))\n",
    "print('the instances of 1 and 0 in DEATH_EVENT are:')\n",
    "print(pd.Series(y_balanced).value_counts())"
   ]
  },
  {
   "cell_type": "code",
   "execution_count": 21,
   "metadata": {
    "ExecuteTime": {
     "end_time": "2020-11-04T00:24:58.330218Z",
     "start_time": "2020-11-03T23:39:59.171975Z"
    }
   },
   "outputs": [
    {
     "name": "stdout",
     "output_type": "stream",
     "text": [
      "Fitting 3 folds for each of 4200 candidates, totalling 12600 fits\n"
     ]
    },
    {
     "name": "stderr",
     "output_type": "stream",
     "text": [
      "[Parallel(n_jobs=2)]: Using backend LokyBackend with 2 concurrent workers.\n",
      "[Parallel(n_jobs=2)]: Done  46 tasks      | elapsed:   15.2s\n",
      "[Parallel(n_jobs=2)]: Done 196 tasks      | elapsed:   56.6s\n",
      "[Parallel(n_jobs=2)]: Done 446 tasks      | elapsed:  2.1min\n",
      "[Parallel(n_jobs=2)]: Done 796 tasks      | elapsed:  3.1min\n",
      "[Parallel(n_jobs=2)]: Done 1246 tasks      | elapsed:  4.9min\n",
      "[Parallel(n_jobs=2)]: Done 1796 tasks      | elapsed:  6.6min\n",
      "[Parallel(n_jobs=2)]: Done 2446 tasks      | elapsed:  9.1min\n",
      "[Parallel(n_jobs=2)]: Done 3196 tasks      | elapsed: 11.5min\n",
      "[Parallel(n_jobs=2)]: Done 4046 tasks      | elapsed: 14.2min\n",
      "[Parallel(n_jobs=2)]: Done 4996 tasks      | elapsed: 17.3min\n",
      "[Parallel(n_jobs=2)]: Done 6046 tasks      | elapsed: 20.8min\n",
      "[Parallel(n_jobs=2)]: Done 7196 tasks      | elapsed: 24.1min\n",
      "[Parallel(n_jobs=2)]: Done 8446 tasks      | elapsed: 29.0min\n",
      "[Parallel(n_jobs=2)]: Done 9796 tasks      | elapsed: 33.9min\n",
      "[Parallel(n_jobs=2)]: Done 11246 tasks      | elapsed: 39.6min\n",
      "[Parallel(n_jobs=2)]: Done 12600 out of 12600 | elapsed: 45.0min finished\n"
     ]
    },
    {
     "data": {
      "text/plain": [
       "Pipeline(steps=[('col_transform',\n",
       "                 ColumnTransformer(remainder='passthrough',\n",
       "                                   transformers=[('scaler', MinMaxScaler(),\n",
       "                                                  [2, 4, 6, 7, 8, 11])])),\n",
       "                ('grid_search',\n",
       "                 GridSearchCV(cv=3, estimator=RandomForestClassifier(),\n",
       "                              n_jobs=2,\n",
       "                              param_grid={'max_depth': range(1, 15),\n",
       "                                          'max_features': ['auto', 'sqrt',\n",
       "                                                           'log'],\n",
       "                                          'min_samples_leaf': [1, 2, 4, 6, 8],\n",
       "                                          'min_samples_split': [2, 3, 5, 7, 9],\n",
       "                                          'n_estimators': [50, 100, 300, 500]},\n",
       "                              scoring='accuracy', verbose=1))])"
      ]
     },
     "execution_count": 21,
     "metadata": {},
     "output_type": "execute_result"
    }
   ],
   "source": [
    "# I would perform MinMaxScaling using ColumnTransform to passthrough some columns\n",
    "# Also i would perform GridSearchCV for the RandomForestClassifier\n",
    "# The whole process would be encapsulated in an sklearn pipeline.\n",
    "\n",
    "make_column_transformer = [2,4,6,7,8,11] # This variable specifies the columns that would be scaled, while the rest are passthrough\n",
    "\n",
    "pipe5 = Pipeline([('col_transform', ColumnTransformer(remainder = 'passthrough',\n",
    "                transformers = [('scaler',MinMaxScaler(),make_column_transformer)])),\n",
    "                ('grid_search',GridSearchCV(RandomForestClassifier(),\n",
    "                {'max_depth':range(1,15), 'n_estimators': [50, 100,300,500],\n",
    "                'max_features': ['auto', 'sqrt', 'log'], \n",
    "                'min_samples_split': [2,3,5,7,9],'min_samples_leaf': [1,2,4,6,8]},\n",
    "                cv = 3, n_jobs = 2, scoring = 'accuracy', verbose = 1))])\n",
    "\n",
    "Xt5 = pipe5.named_steps['col_transform'].fit_transform(X_balanced) #fitting and transforming the smoted feature matrix to the transformer\n",
    "\n",
    "x_train, x_test,y_train, y_test = train_test_split(Xt5, y_balanced, test_size = 0.2, random_state = 0)\n",
    "\n",
    "pipe5.fit(x_train,y_train) # perfoming the GridSearchCV by calling the pipe fit method"
   ]
  },
  {
   "cell_type": "code",
   "execution_count": 22,
   "metadata": {
    "ExecuteTime": {
     "end_time": "2020-11-04T00:26:46.634326Z",
     "start_time": "2020-11-04T00:26:46.484401Z"
    }
   },
   "outputs": [],
   "source": [
    "model5 = pipe5.named_steps['grid_search'].best_estimator_ #Training the RandomForestClassifier with the best parameters from the search\n",
    "model5.fit(x_train, y_train)\n",
    "y_pred5 = model5.predict(x_test)"
   ]
  },
  {
   "cell_type": "code",
   "execution_count": 23,
   "metadata": {
    "ExecuteTime": {
     "end_time": "2020-11-04T00:26:51.125535Z",
     "start_time": "2020-11-04T00:26:51.017402Z"
    }
   },
   "outputs": [
    {
     "name": "stdout",
     "output_type": "stream",
     "text": [
      "the Recall for smoted RandomForest is:0.9574\n",
      "the Accuracy for smoted RandomForest is:0.939\n",
      "the Precision for smoted RandomForest is: 0.9375\n",
      "the F1_score for smoted RandomForest is: 0.9474\n"
     ]
    }
   ],
   "source": [
    "from sklearn.metrics import classification_report, recall_score, accuracy_score,precision_score, f1_score\n",
    "recall5 = recall_score(y_test,y_pred5)\n",
    "accuracy5 = accuracy_score(y_test,y_pred5)\n",
    "precision5 = precision_score(y_test,y_pred5)\n",
    "f1score5 = f1_score(y_test,y_pred5)\n",
    "print('the Recall for smoted RandomForest is:{}'.format(round(recall5,4)))\n",
    "print(f'the Accuracy for smoted RandomForest is:{round(accuracy5,4)}')\n",
    "print('the Precision for smoted RandomForest is: %s' %(round(precision5,4)))\n",
    "print(f'the F1_score for smoted RandomForest is: {round(f1score5,4)}')"
   ]
  },
  {
   "cell_type": "code",
   "execution_count": 29,
   "metadata": {
    "ExecuteTime": {
     "end_time": "2020-11-04T00:53:35.480727Z",
     "start_time": "2020-11-04T00:53:35.465736Z"
    }
   },
   "outputs": [
    {
     "name": "stdout",
     "output_type": "stream",
     "text": [
      "              precision    recall  f1-score   support\n",
      "\n",
      "           0       0.94      0.91      0.93        35\n",
      "           1       0.94      0.96      0.95        47\n",
      "\n",
      "    accuracy                           0.94        82\n",
      "   macro avg       0.94      0.94      0.94        82\n",
      "weighted avg       0.94      0.94      0.94        82\n",
      "\n"
     ]
    }
   ],
   "source": [
    "print(classification_report(y_test, y_pred5))"
   ]
  },
  {
   "cell_type": "code",
   "execution_count": 26,
   "metadata": {
    "ExecuteTime": {
     "end_time": "2020-11-04T00:39:02.891851Z",
     "start_time": "2020-11-04T00:39:02.846878Z"
    }
   },
   "outputs": [
    {
     "name": "stdout",
     "output_type": "stream",
     "text": [
      "[[32  3]\n",
      " [ 2 45]]\n"
     ]
    }
   ],
   "source": [
    "# To see the confusion matrix\n",
    "from sklearn.metrics import confusion_matrix\n",
    "print(confusion_matrix(y_test, y_pred5))"
   ]
  },
  {
   "cell_type": "code",
   "execution_count": 27,
   "metadata": {
    "ExecuteTime": {
     "end_time": "2020-11-04T00:41:20.944689Z",
     "start_time": "2020-11-04T00:41:20.806964Z"
    }
   },
   "outputs": [],
   "source": [
    "# saving the model to Disk\n",
    "import dill\n",
    "with open('RandomForest.dill','wb') as f:\n",
    "    dill.dump(model5,f)"
   ]
  },
  {
   "cell_type": "code",
   "execution_count": 28,
   "metadata": {
    "ExecuteTime": {
     "end_time": "2020-11-04T00:41:26.233310Z",
     "start_time": "2020-11-04T00:41:25.098031Z"
    }
   },
   "outputs": [
    {
     "name": "stdout",
     "output_type": "stream",
     "text": [
      "-rw-r--r-- 1 CHARLIE None 228K Nov  4 01:41 RandomForest.dill\n"
     ]
    }
   ],
   "source": [
    "#checking if model is saved successfully on disk\n",
    "!ls -alh RandomForest.dill"
   ]
  },
  {
   "cell_type": "code",
   "execution_count": null,
   "metadata": {},
   "outputs": [],
   "source": []
  }
 ],
 "metadata": {
  "kernelspec": {
   "display_name": "Python 3",
   "language": "python",
   "name": "python3"
  },
  "language_info": {
   "codemirror_mode": {
    "name": "ipython",
    "version": 3
   },
   "file_extension": ".py",
   "mimetype": "text/x-python",
   "name": "python",
   "nbconvert_exporter": "python",
   "pygments_lexer": "ipython3",
   "version": "3.7.6"
  }
 },
 "nbformat": 4,
 "nbformat_minor": 4
}
