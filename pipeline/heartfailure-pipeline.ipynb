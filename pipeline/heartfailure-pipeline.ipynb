{
 "cells": [
  {
   "cell_type": "markdown",
   "metadata": {},
   "source": [
    "## Import Necessary Libraries"
   ]
  },
  {
   "cell_type": "code",
   "execution_count": null,
   "metadata": {},
   "outputs": [],
   "source": [
    "!python -m pip install --user --upgrade pip\n",
    "!pip3 install pandas==0.23.4 matplotlib==3.0.3 scipy==1.2.1 scikit-learn==0.22 tensorflow==2.0 keras==1.2.2 --user\n"
   ]
  },
  {
   "cell_type": "code",
   "execution_count": null,
   "metadata": {},
   "outputs": [],
   "source": [
    "import numpy as np\n",
    "import pandas as  pd\n",
    "import os\n",
    "import matplotlib.pyplot as plt\n",
    "\n",
    "from sklearn.model_selection import KFold\n",
    "from sklearn.model_selection import StratifiedShuffleSplit\n",
    "from sklearn.ensemble import RandomForestClassifier\n",
    "from sklearn.metrics import accuracy_score, f1_score, confusion_matrix, classification_report\n",
    "from sklearn.model_selection import RandomizedSearchCV\n",
    "\n",
    "# evaluating the mode\n",
    "from sklearn.metrics import classification_report, confusion_matrix"
   ]
  },
  {
   "cell_type": "markdown",
   "metadata": {},
   "source": [
    "### Install Kubeflow pipelines SDK"
   ]
  },
  {
   "cell_type": "code",
   "execution_count": null,
   "metadata": {},
   "outputs": [],
   "source": [
    "!pip3 install kfp --upgrade --user"
   ]
  },
  {
   "cell_type": "code",
   "execution_count": null,
   "metadata": {},
   "outputs": [],
   "source": [
    "!which dsl-compile"
   ]
  },
  {
   "cell_type": "markdown",
   "metadata": {},
   "source": [
    "## Build the Components"
   ]
  },
  {
   "cell_type": "code",
   "execution_count": null,
   "metadata": {},
   "outputs": [],
   "source": [
    "# Import Kubeflow SDK\n",
    "import kfp\n",
    "import kfp.dsl as dsl\n",
    "import kfp.components as comp"
   ]
  },
  {
   "cell_type": "code",
   "execution_count": null,
   "metadata": {},
   "outputs": [],
   "source": [
    "# where the outputs are stored\n",
    "out_dir = \"/home/jovyan/02-heart-failure/data/out/\""
   ]
  },
  {
   "cell_type": "markdown",
   "metadata": {},
   "source": [
    "## Preprocessing the data"
   ]
  },
  {
   "cell_type": "code",
   "execution_count": null,
   "metadata": {},
   "outputs": [],
   "source": [
    "def preprocess(data_path):\n",
    "    \n",
    "    import pickle\n",
    "    import sys, subprocess;\n",
    "    subprocess.run([sys.executable, '-m', 'pip', 'install', 'pandas', 'scikit-learn'])\n",
    "    from sklearn.model_selection import KFold\n",
    "    from sklearn.model_selection import StratifiedShuffleSplit\n",
    "    import numpy as np\n",
    "    \n",
    "    # Download the dataset and split into training and test data. \n",
    "    hf_data = pd.read_csv(\"https://raw.githubusercontent.com/HamoyeHQ/02-heart-failure/master/data/heart_failure_clinical_records_dataset.csv\")\n",
    "    \n",
    "    # Splitting the datasets into x and y\n",
    "    x = hf_data.drop(['DEATH_EVENT'], axis = 1)\n",
    "    y = hf_data['DEATH_EVENT']\n",
    "    \n",
    "     # Instantiating the KFold split  \n",
    "    split = KFold(n_splits=10, shuffle = True, random_state=42)\n",
    "\n",
    "    # Split data into train and test using stratified split to avoid bias\n",
    "    for train_index, test_index in split.split(x, y):\n",
    "        train = hf_data.loc[train_index]\n",
    "        test = hf_data.loc[test_index]\n",
    "\n",
    "    # Taking only the best features obtained\n",
    "    xtrain = train[['time', 'ejection_fraction', 'serum_creatinine', 'age', 'serum_sodium', 'high_blood_pressure', 'creatinine_phosphokinase']]\n",
    "    ytrain = train['DEATH_EVENT']\n",
    "    xtest = test[['time', 'ejection_fraction', 'serum_creatinine', 'age', 'serum_sodium', 'high_blood_pressure', 'creatinine_phosphokinase']]\n",
    "    ytest = test['DEATH_EVENT']\n",
    "    \n",
    "    #output file to path\n",
    "    np.savez_compressed(f'{data_path}/preprocessed-data.npz', \n",
    "                       xtrain=xtrain,\n",
    "                       xtest=xtest,\n",
    "                       ytrain=ytrain,\n",
    "                       ytest=ytest)\n",
    "    print(\"Preprocessing Done\")"
   ]
  },
  {
   "cell_type": "markdown",
   "metadata": {},
   "source": [
    "## Training the Random forest Classier"
   ]
  },
  {
   "cell_type": "code",
   "execution_count": null,
   "metadata": {},
   "outputs": [],
   "source": [
    "def train(data_path, clf_file):\n",
    "    \n",
    "    #import libraries and dependencies\n",
    "    import pickle\n",
    "    import sys, subprocess;\n",
    "    subprocess.run([sys.executable, '-m', 'pip', 'install', 'pandas', 'scikit-learn'])\n",
    "    from sklearn.ensemble import RandomForestClassifier\n",
    "    import numpy as np\n",
    "    \n",
    "    #load the preprocessed data\n",
    "    preprocessed_data = np.load(f'{data_path}/preprocessed-data.npz')\n",
    "    x_train = preprocessed_data['xtrain']\n",
    "    y_train = preprocessed_data['ytrain']\n",
    "    \n",
    "    # Instantiating the model with the best hyper-parameters obtained\n",
    "    clf = RandomForestClassifier(n_estimators = 50, min_samples_split = 7, min_samples_leaf = 6, max_features = 'log2')\n",
    "\n",
    "    # Run a training job with specified number of epochs\n",
    "    clf.fit(x_train, y_train)\n",
    "\n",
    "    #Save the model to the designated \n",
    "    with open(f'{data_path}/{clf_file}', 'wb') as file:\n",
    "        pickle.dump(clf, file)"
   ]
  },
  {
   "cell_type": "markdown",
   "metadata": {},
   "source": [
    "## Prediction using the model"
   ]
  },
  {
   "cell_type": "code",
   "execution_count": null,
   "metadata": {},
   "outputs": [],
   "source": [
    "def predict(data_path, clf_file):\n",
    "    \n",
    "    import pickle\n",
    "    import numpy as np\n",
    "    import subprocess\n",
    "    subprocess.run([sys.executable, '-m', 'pip', 'install', 'pandas', 'scikit-learn'])\n",
    "    \n",
    "    # Load the saved Random forest classifier model\n",
    "    with open(f'{data_path}/{clf_file}','rb') as file:\n",
    "        clf = pickle.load(file)\n",
    "        \n",
    "    #load the preprocessed data\n",
    "    preprocessed_data = np.load(f'{data_path}/preprocessed-data.npz')\n",
    "    x_test = preprocessed_data['xtest']\n",
    "    y_test = preprocessed_data['ytest']\n",
    "    \n",
    "    #Evaluate the model and print the results\n",
    "    clf_pred = clf.predict(x_test)\n",
    "        \n",
    "    print('Model \\nAccuracy score = {} \\nF1_score = {}' .format(accuracy_score(y_test, clf_pred), f1_score(y_test, clf_pred)))\n",
    "    \n",
    "    np.savetxt(f'{data_path}/model_result.txt', predictions, fmt='%1.2f')\n",
    "    \n",
    "    print('Prediction has be saved successfully!')"
   ]
  },
  {
   "cell_type": "code",
   "execution_count": null,
   "metadata": {},
   "outputs": [],
   "source": [
    "# Create train and predict lightweight components.\n",
    "preprocess_op = comp.func_to_container_op(preprocess, base_image=\"tensorflow/tensorflow:latest-gpu-py3\")\n",
    "train_op = comp.func_to_container_op(train , base_image = \"tensorflow/tensorflow:latest-gpu-py3\")\n",
    "predict_op = comp.func_to_container_op(predict , base_image = \"tensorflow/tensorflow:latest-gpu-py3\")"
   ]
  },
  {
   "cell_type": "markdown",
   "metadata": {},
   "source": [
    "## Build Kubeflow Pipeline"
   ]
  },
  {
   "cell_type": "code",
   "execution_count": null,
   "metadata": {},
   "outputs": [],
   "source": [
    "#Create a client to enable communication with the Pipelines API server.\n",
    "client = kfp.Client()"
   ]
  },
  {
   "cell_type": "code",
   "execution_count": null,
   "metadata": {},
   "outputs": [],
   "source": [
    "# Define the pipeline\n",
    "@dsl.pipeline(\n",
    "   name='Heart Failure Pipeline',\n",
    "   description='An ML pipeline that performs Heart Failure model training and Death Event prediction.'\n",
    ")\n",
    "\n",
    "# Define parameters to be fed into pipeline\n",
    "def heartfailure_container_pipeline(\n",
    "    data_path: str,\n",
    "    clf_file: str\n",
    "):\n",
    "    \n",
    "    # Define volume to share data between components.\n",
    "    vop = dsl.VolumeOp(\n",
    "    name=\"create_volume\",\n",
    "    resource_name=\"data-volume\", \n",
    "    size=\"1Gi\", \n",
    "    modes=dsl.VOLUME_MODE_RWO)\n",
    "    \n",
    "    # Create preprocess component.\n",
    "    heartfailure_preprocess_container = preprocess_op(data_path).add_pvolumes({data_path: vop.volume})\n",
    "    \n",
    "    # Create training component.\n",
    "    heartfailure_training_container = train_op(data_path, clf_file) \\\n",
    "                                    .add_pvolumes({data_path: heartfailure_preprocess_container.pvolume})\n",
    "\n",
    "    # Create prediction component.\n",
    "    heartfailure_predict_container = predict_op(data_path, clf_file) \\\n",
    "                                    .add_pvolumes({data_path: heartfailure_training_container.pvolume})\n",
    "    \n",
    "    # Print the result of the prediction\n",
    "    heartfailure_result_container = dsl.ContainerOp(\n",
    "        name=\"prediction\",\n",
    "        image='library/bash:4.4.23',\n",
    "        pvolumes={data_path: heartfailure_predict_container.pvolume},\n",
    "        arguments=['head', f'{data_path}/model_result.txt']\n",
    "    )"
   ]
  },
  {
   "cell_type": "markdown",
   "metadata": {},
   "source": [
    "## Run the Pipeline"
   ]
  },
  {
   "cell_type": "code",
   "execution_count": null,
   "metadata": {},
   "outputs": [],
   "source": [
    "DATA_PATH = '/mnt'\n",
    "CLF_PATH='heartfailure_predictor.pkl'"
   ]
  },
  {
   "cell_type": "code",
   "execution_count": null,
   "metadata": {},
   "outputs": [],
   "source": [
    "pipeline_func = heartfailure_container_pipeline"
   ]
  },
  {
   "cell_type": "code",
   "execution_count": null,
   "metadata": {},
   "outputs": [],
   "source": [
    "experiment_name = 'heartfailure_kubeflow'\n",
    "run_name = pipeline_func.__name__ + ' run'\n",
    "\n",
    "arguments = {\"data_path\":DATA_PATH,\n",
    "             \"clf_file\":CLF_PATH}\n",
    "\n",
    "# Compile pipeline to generate compressed YAML definition of the pipeline.\n",
    "kfp.compiler.Compiler().compile(pipeline_func,  \n",
    "  '{}.zip'.format(experiment_name))\n",
    "\n",
    "# Submit pipeline directly from pipeline function\n",
    "run_result = client.create_run_from_pipeline_func(pipeline_func, \n",
    "                                                  experiment_name=experiment_name, \n",
    "                                                  run_name=run_name, \n",
    "                                                  arguments=arguments)"
   ]
  },
  {
   "cell_type": "code",
   "execution_count": null,
   "metadata": {},
   "outputs": [],
   "source": []
  }
 ],
 "metadata": {
  "kernelspec": {
   "display_name": "Python 3",
   "language": "python",
   "name": "python3"
  },
  "language_info": {
   "codemirror_mode": {
    "name": "ipython",
    "version": 3
   },
   "file_extension": ".py",
   "mimetype": "text/x-python",
   "name": "python",
   "nbconvert_exporter": "python",
   "pygments_lexer": "ipython3",
   "version": "3.7.6"
  }
 },
 "nbformat": 4,
 "nbformat_minor": 4
}
